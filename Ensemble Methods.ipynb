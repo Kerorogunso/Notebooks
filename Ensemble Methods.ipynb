{
 "cells": [
  {
   "cell_type": "markdown",
   "metadata": {},
   "source": [
    "# Ensemble Methods"
   ]
  },
  {
   "cell_type": "code",
   "execution_count": 1,
   "metadata": {
    "collapsed": true
   },
   "outputs": [],
   "source": [
    "from sklearn.ensemble import RandomForestClassifier\n",
    "from sklearn.ensemble import VotingClassifier\n",
    "from sklearn.linear_model import LogisticRegression\n",
    "from sklearn.svm import SVC"
   ]
  },
  {
   "cell_type": "code",
   "execution_count": 2,
   "metadata": {
    "collapsed": true
   },
   "outputs": [],
   "source": [
    "log_clf = LogisticRegression()\n",
    "rnd_clf = RandomForestClassifier()\n",
    "svm_clf = SVC(probability=True)\n",
    "\n",
    "voting_clf = VotingClassifier(estimators = [('lr', log_clf), ('rf', rnd_clf), ('sv', svm_clf)], voting='soft')"
   ]
  },
  {
   "cell_type": "code",
   "execution_count": 3,
   "metadata": {
    "collapsed": true
   },
   "outputs": [],
   "source": [
    "from sklearn.model_selection import train_test_split\n",
    "from sklearn.datasets import make_moons\n",
    "\n",
    "X, y = make_moons(n_samples=500, noise=0.30, random_state=42)\n",
    "X_train, X_test, y_train, y_test = train_test_split(X, y, random_state=42)"
   ]
  },
  {
   "cell_type": "code",
   "execution_count": 4,
   "metadata": {},
   "outputs": [
    {
     "name": "stdout",
     "output_type": "stream",
     "text": [
      "LogisticRegression 0.864\n",
      "RandomForestClassifier 0.896\n",
      "SVC 0.888\n",
      "VotingClassifier 0.912\n"
     ]
    }
   ],
   "source": [
    "from sklearn.metrics import accuracy_score\n",
    "\n",
    "for clf in (log_clf, rnd_clf, svm_clf, voting_clf):\n",
    "    clf.fit(X_train, y_train)\n",
    "    y_pred = clf.predict(X_test)\n",
    "    print(clf.__class__.__name__, accuracy_score(y_test, y_pred))"
   ]
  },
  {
   "cell_type": "code",
   "execution_count": 5,
   "metadata": {},
   "outputs": [
    {
     "data": {
      "text/plain": [
       "0.92800000000000005"
      ]
     },
     "execution_count": 5,
     "metadata": {},
     "output_type": "execute_result"
    }
   ],
   "source": [
    "from sklearn.ensemble import BaggingClassifier\n",
    "from sklearn.tree import DecisionTreeClassifier\n",
    "\n",
    "bag_clf = BaggingClassifier(\n",
    "    DecisionTreeClassifier(), n_estimators = 500,\n",
    "    max_samples=100, bootstrap=True, n_jobs=-1)\n",
    "bag_clf.fit(X_train, y_train)\n",
    "\n",
    "predictions = bag_clf.predict(X_test)\n",
    "accuracy_score(y_test, predictions)"
   ]
  },
  {
   "cell_type": "code",
   "execution_count": 6,
   "metadata": {},
   "outputs": [
    {
     "data": {
      "text/plain": [
       "0.89866666666666661"
      ]
     },
     "execution_count": 6,
     "metadata": {},
     "output_type": "execute_result"
    }
   ],
   "source": [
    "bag_clf = BaggingClassifier(\n",
    "    DecisionTreeClassifier(), n_estimators=500,\n",
    "    bootstrap=True, n_jobs=-1, oob_score=True)\n",
    "\n",
    "bag_clf.fit(X_train, y_train)\n",
    "bag_clf.oob_score_"
   ]
  },
  {
   "cell_type": "code",
   "execution_count": 7,
   "metadata": {},
   "outputs": [
    {
     "data": {
      "text/plain": [
       "0.91200000000000003"
      ]
     },
     "execution_count": 7,
     "metadata": {},
     "output_type": "execute_result"
    }
   ],
   "source": [
    "from sklearn.metrics import accuracy_score\n",
    "predictions = bag_clf.predict(X_test)\n",
    "accuracy_score(y_test, predictions)"
   ]
  },
  {
   "cell_type": "code",
   "execution_count": 8,
   "metadata": {},
   "outputs": [
    {
     "data": {
      "text/plain": [
       "array([[ 0.375     ,  0.625     ],\n",
       "       [ 0.38636364,  0.61363636],\n",
       "       [ 1.        ,  0.        ],\n",
       "       [ 0.        ,  1.        ],\n",
       "       [ 0.        ,  1.        ],\n",
       "       [ 0.08474576,  0.91525424],\n",
       "       [ 0.3968254 ,  0.6031746 ],\n",
       "       [ 0.025     ,  0.975     ],\n",
       "       [ 0.99514563,  0.00485437],\n",
       "       [ 0.97938144,  0.02061856],\n",
       "       [ 0.76536313,  0.23463687],\n",
       "       [ 0.00534759,  0.99465241],\n",
       "       [ 0.8125    ,  0.1875    ],\n",
       "       [ 0.8021978 ,  0.1978022 ],\n",
       "       [ 0.96216216,  0.03783784],\n",
       "       [ 0.07386364,  0.92613636],\n",
       "       [ 0.00518135,  0.99481865],\n",
       "       [ 0.98969072,  0.01030928],\n",
       "       [ 0.94705882,  0.05294118],\n",
       "       [ 0.98285714,  0.01714286],\n",
       "       [ 0.02747253,  0.97252747],\n",
       "       [ 0.40425532,  0.59574468],\n",
       "       [ 0.91052632,  0.08947368],\n",
       "       [ 1.        ,  0.        ],\n",
       "       [ 0.97311828,  0.02688172],\n",
       "       [ 0.        ,  1.        ],\n",
       "       [ 0.99479167,  0.00520833],\n",
       "       [ 1.        ,  0.        ],\n",
       "       [ 0.        ,  1.        ],\n",
       "       [ 0.65968586,  0.34031414],\n",
       "       [ 0.        ,  1.        ],\n",
       "       [ 1.        ,  0.        ],\n",
       "       [ 0.        ,  1.        ],\n",
       "       [ 0.        ,  1.        ],\n",
       "       [ 0.10989011,  0.89010989],\n",
       "       [ 1.        ,  0.        ],\n",
       "       [ 0.        ,  1.        ],\n",
       "       [ 0.36312849,  0.63687151],\n",
       "       [ 0.        ,  1.        ],\n",
       "       [ 1.        ,  0.        ],\n",
       "       [ 0.21890547,  0.78109453],\n",
       "       [ 0.35714286,  0.64285714],\n",
       "       [ 1.        ,  0.        ],\n",
       "       [ 1.        ,  0.        ],\n",
       "       [ 0.        ,  1.        ],\n",
       "       [ 1.        ,  0.        ],\n",
       "       [ 1.        ,  0.        ],\n",
       "       [ 0.01142857,  0.98857143],\n",
       "       [ 1.        ,  0.        ],\n",
       "       [ 0.00990099,  0.99009901],\n",
       "       [ 0.97883598,  0.02116402],\n",
       "       [ 0.88324873,  0.11675127],\n",
       "       [ 0.98876404,  0.01123596],\n",
       "       [ 0.96      ,  0.04      ],\n",
       "       [ 0.        ,  1.        ],\n",
       "       [ 0.03278689,  0.96721311],\n",
       "       [ 0.98895028,  0.01104972],\n",
       "       [ 0.        ,  1.        ],\n",
       "       [ 0.        ,  1.        ],\n",
       "       [ 0.00571429,  0.99428571],\n",
       "       [ 0.9893617 ,  0.0106383 ],\n",
       "       [ 0.8079096 ,  0.1920904 ],\n",
       "       [ 0.40740741,  0.59259259],\n",
       "       [ 1.        ,  0.        ],\n",
       "       [ 0.        ,  1.        ],\n",
       "       [ 0.68556701,  0.31443299],\n",
       "       [ 1.        ,  0.        ],\n",
       "       [ 1.        ,  0.        ],\n",
       "       [ 0.85714286,  0.14285714],\n",
       "       [ 1.        ,  0.        ],\n",
       "       [ 0.57954545,  0.42045455],\n",
       "       [ 0.14736842,  0.85263158],\n",
       "       [ 0.61621622,  0.38378378],\n",
       "       [ 0.92528736,  0.07471264],\n",
       "       [ 0.        ,  1.        ],\n",
       "       [ 0.15544041,  0.84455959],\n",
       "       [ 0.88950276,  0.11049724],\n",
       "       [ 1.        ,  0.        ],\n",
       "       [ 0.        ,  1.        ],\n",
       "       [ 1.        ,  0.        ],\n",
       "       [ 0.        ,  1.        ],\n",
       "       [ 0.05235602,  0.94764398],\n",
       "       [ 0.03664921,  0.96335079],\n",
       "       [ 0.33888889,  0.66111111],\n",
       "       [ 1.        ,  0.        ],\n",
       "       [ 0.        ,  1.        ],\n",
       "       [ 0.89759036,  0.10240964],\n",
       "       [ 0.00531915,  0.99468085],\n",
       "       [ 0.        ,  1.        ],\n",
       "       [ 0.        ,  1.        ],\n",
       "       [ 0.32738095,  0.67261905],\n",
       "       [ 1.        ,  0.        ],\n",
       "       [ 0.        ,  1.        ],\n",
       "       [ 0.00555556,  0.99444444],\n",
       "       [ 0.        ,  1.        ],\n",
       "       [ 0.95408163,  0.04591837],\n",
       "       [ 0.75135135,  0.24864865],\n",
       "       [ 0.00549451,  0.99450549],\n",
       "       [ 1.        ,  0.        ],\n",
       "       [ 0.21428571,  0.78571429],\n",
       "       [ 0.61581921,  0.38418079],\n",
       "       [ 0.        ,  1.        ],\n",
       "       [ 0.04301075,  0.95698925],\n",
       "       [ 0.42487047,  0.57512953],\n",
       "       [ 0.99473684,  0.00526316],\n",
       "       [ 0.01086957,  0.98913043],\n",
       "       [ 0.99462366,  0.00537634],\n",
       "       [ 0.22404372,  0.77595628],\n",
       "       [ 0.49450549,  0.50549451],\n",
       "       [ 1.        ,  0.        ],\n",
       "       [ 0.01775148,  0.98224852],\n",
       "       [ 0.98387097,  0.01612903],\n",
       "       [ 0.26285714,  0.73714286],\n",
       "       [ 0.9197861 ,  0.0802139 ],\n",
       "       [ 1.        ,  0.        ],\n",
       "       [ 1.        ,  0.        ],\n",
       "       [ 0.        ,  1.        ],\n",
       "       [ 0.        ,  1.        ],\n",
       "       [ 0.79381443,  0.20618557],\n",
       "       [ 1.        ,  0.        ],\n",
       "       [ 0.02717391,  0.97282609],\n",
       "       [ 1.        ,  0.        ],\n",
       "       [ 1.        ,  0.        ],\n",
       "       [ 1.        ,  0.        ],\n",
       "       [ 0.98342541,  0.01657459],\n",
       "       [ 1.        ,  0.        ],\n",
       "       [ 0.00578035,  0.99421965],\n",
       "       [ 0.92941176,  0.07058824],\n",
       "       [ 1.        ,  0.        ],\n",
       "       [ 0.00574713,  0.99425287],\n",
       "       [ 0.22527473,  0.77472527],\n",
       "       [ 0.95939086,  0.04060914],\n",
       "       [ 0.22285714,  0.77714286],\n",
       "       [ 0.99526066,  0.00473934],\n",
       "       [ 0.        ,  1.        ],\n",
       "       [ 0.01036269,  0.98963731],\n",
       "       [ 0.67816092,  0.32183908],\n",
       "       [ 0.36065574,  0.63934426],\n",
       "       [ 0.37349398,  0.62650602],\n",
       "       [ 0.85632184,  0.14367816],\n",
       "       [ 0.91534392,  0.08465608],\n",
       "       [ 0.08629442,  0.91370558],\n",
       "       [ 0.82738095,  0.17261905],\n",
       "       [ 0.00534759,  0.99465241],\n",
       "       [ 0.        ,  1.        ],\n",
       "       [ 0.03208556,  0.96791444],\n",
       "       [ 0.97206704,  0.02793296],\n",
       "       [ 1.        ,  0.        ],\n",
       "       [ 1.        ,  0.        ],\n",
       "       [ 0.        ,  1.        ],\n",
       "       [ 0.        ,  1.        ],\n",
       "       [ 0.02020202,  0.97979798],\n",
       "       [ 0.00507614,  0.99492386],\n",
       "       [ 1.        ,  0.        ],\n",
       "       [ 1.        ,  0.        ],\n",
       "       [ 0.96666667,  0.03333333],\n",
       "       [ 1.        ,  0.        ],\n",
       "       [ 1.        ,  0.        ],\n",
       "       [ 0.99492386,  0.00507614],\n",
       "       [ 0.        ,  1.        ],\n",
       "       [ 0.33333333,  0.66666667],\n",
       "       [ 0.32369942,  0.67630058],\n",
       "       [ 0.00515464,  0.99484536],\n",
       "       [ 0.        ,  1.        ],\n",
       "       [ 0.2716763 ,  0.7283237 ],\n",
       "       [ 1.        ,  0.        ],\n",
       "       [ 1.        ,  0.        ],\n",
       "       [ 0.        ,  1.        ],\n",
       "       [ 1.        ,  0.        ],\n",
       "       [ 0.        ,  1.        ],\n",
       "       [ 0.        ,  1.        ],\n",
       "       [ 0.98295455,  0.01704545],\n",
       "       [ 0.        ,  1.        ],\n",
       "       [ 0.        ,  1.        ],\n",
       "       [ 1.        ,  0.        ],\n",
       "       [ 0.00552486,  0.99447514],\n",
       "       [ 0.6519337 ,  0.3480663 ],\n",
       "       [ 0.91477273,  0.08522727],\n",
       "       [ 0.        ,  1.        ],\n",
       "       [ 1.        ,  0.        ],\n",
       "       [ 0.99441341,  0.00558659],\n",
       "       [ 1.        ,  0.        ],\n",
       "       [ 0.        ,  1.        ],\n",
       "       [ 0.        ,  1.        ],\n",
       "       [ 1.        ,  0.        ],\n",
       "       [ 0.08743169,  0.91256831],\n",
       "       [ 1.        ,  0.        ],\n",
       "       [ 0.0273224 ,  0.9726776 ],\n",
       "       [ 0.        ,  1.        ],\n",
       "       [ 1.        ,  0.        ],\n",
       "       [ 0.        ,  1.        ],\n",
       "       [ 0.03910615,  0.96089385],\n",
       "       [ 1.        ,  0.        ],\n",
       "       [ 0.91489362,  0.08510638],\n",
       "       [ 0.79190751,  0.20809249],\n",
       "       [ 0.58173077,  0.41826923],\n",
       "       [ 0.        ,  1.        ],\n",
       "       [ 0.15976331,  0.84023669],\n",
       "       [ 1.        ,  0.        ],\n",
       "       [ 0.9558011 ,  0.0441989 ],\n",
       "       [ 0.98255814,  0.01744186],\n",
       "       [ 1.        ,  0.        ],\n",
       "       [ 0.        ,  1.        ],\n",
       "       [ 0.        ,  1.        ],\n",
       "       [ 0.4047619 ,  0.5952381 ],\n",
       "       [ 0.83756345,  0.16243655],\n",
       "       [ 0.        ,  1.        ],\n",
       "       [ 0.        ,  1.        ],\n",
       "       [ 1.        ,  0.        ],\n",
       "       [ 0.01612903,  0.98387097],\n",
       "       [ 0.        ,  1.        ],\n",
       "       [ 0.98469388,  0.01530612],\n",
       "       [ 0.        ,  1.        ],\n",
       "       [ 0.29411765,  0.70588235],\n",
       "       [ 0.        ,  1.        ],\n",
       "       [ 1.        ,  0.        ],\n",
       "       [ 0.        ,  1.        ],\n",
       "       [ 0.        ,  1.        ],\n",
       "       [ 0.97159091,  0.02840909],\n",
       "       [ 0.7797619 ,  0.2202381 ],\n",
       "       [ 1.        ,  0.        ],\n",
       "       [ 0.        ,  1.        ],\n",
       "       [ 0.07103825,  0.92896175],\n",
       "       [ 1.        ,  0.        ],\n",
       "       [ 0.02604167,  0.97395833],\n",
       "       [ 0.        ,  1.        ],\n",
       "       [ 0.03960396,  0.96039604],\n",
       "       [ 1.        ,  0.        ],\n",
       "       [ 0.79126214,  0.20873786],\n",
       "       [ 0.        ,  1.        ],\n",
       "       [ 0.88709677,  0.11290323],\n",
       "       [ 0.99421965,  0.00578035],\n",
       "       [ 0.17277487,  0.82722513],\n",
       "       [ 0.21105528,  0.78894472],\n",
       "       [ 1.        ,  0.        ],\n",
       "       [ 0.        ,  1.        ],\n",
       "       [ 0.        ,  1.        ],\n",
       "       [ 0.        ,  1.        ],\n",
       "       [ 0.26256983,  0.73743017],\n",
       "       [ 0.95505618,  0.04494382],\n",
       "       [ 0.00526316,  0.99473684],\n",
       "       [ 1.        ,  0.        ],\n",
       "       [ 0.98630137,  0.01369863],\n",
       "       [ 0.        ,  1.        ],\n",
       "       [ 0.46      ,  0.54      ],\n",
       "       [ 1.        ,  0.        ],\n",
       "       [ 0.        ,  1.        ],\n",
       "       [ 1.        ,  0.        ],\n",
       "       [ 0.00561798,  0.99438202],\n",
       "       [ 0.        ,  1.        ],\n",
       "       [ 0.06593407,  0.93406593],\n",
       "       [ 0.11515152,  0.88484848],\n",
       "       [ 0.99435028,  0.00564972],\n",
       "       [ 0.02162162,  0.97837838],\n",
       "       [ 1.        ,  0.        ],\n",
       "       [ 0.38888889,  0.61111111],\n",
       "       [ 0.12643678,  0.87356322],\n",
       "       [ 0.49753695,  0.50246305],\n",
       "       [ 0.6424581 ,  0.3575419 ],\n",
       "       [ 0.        ,  1.        ],\n",
       "       [ 1.        ,  0.        ],\n",
       "       [ 0.        ,  1.        ],\n",
       "       [ 0.        ,  1.        ],\n",
       "       [ 0.59358289,  0.40641711],\n",
       "       [ 0.        ,  1.        ],\n",
       "       [ 1.        ,  0.        ],\n",
       "       [ 0.2160804 ,  0.7839196 ],\n",
       "       [ 0.81052632,  0.18947368],\n",
       "       [ 0.0718232 ,  0.9281768 ],\n",
       "       [ 1.        ,  0.        ],\n",
       "       [ 0.81547619,  0.18452381],\n",
       "       [ 0.        ,  1.        ],\n",
       "       [ 0.00515464,  0.99484536],\n",
       "       [ 0.12021858,  0.87978142],\n",
       "       [ 0.02673797,  0.97326203],\n",
       "       [ 0.        ,  1.        ],\n",
       "       [ 0.99502488,  0.00497512],\n",
       "       [ 0.89893617,  0.10106383],\n",
       "       [ 0.21428571,  0.78571429],\n",
       "       [ 0.96089385,  0.03910615],\n",
       "       [ 0.00561798,  0.99438202],\n",
       "       [ 0.57971014,  0.42028986],\n",
       "       [ 0.04705882,  0.95294118],\n",
       "       [ 0.98876404,  0.01123596],\n",
       "       [ 0.80116959,  0.19883041],\n",
       "       [ 0.        ,  1.        ],\n",
       "       [ 0.99521531,  0.00478469],\n",
       "       [ 0.94444444,  0.05555556],\n",
       "       [ 0.        ,  1.        ],\n",
       "       [ 0.        ,  1.        ],\n",
       "       [ 1.        ,  0.        ],\n",
       "       [ 0.        ,  1.        ],\n",
       "       [ 1.        ,  0.        ],\n",
       "       [ 0.27472527,  0.72527473],\n",
       "       [ 0.99497487,  0.00502513],\n",
       "       [ 1.        ,  0.        ],\n",
       "       [ 0.        ,  1.        ],\n",
       "       [ 0.        ,  1.        ],\n",
       "       [ 0.88571429,  0.11428571],\n",
       "       [ 0.        ,  1.        ],\n",
       "       [ 1.        ,  0.        ],\n",
       "       [ 0.70414201,  0.29585799],\n",
       "       [ 0.93258427,  0.06741573],\n",
       "       [ 1.        ,  0.        ],\n",
       "       [ 0.66120219,  0.33879781],\n",
       "       [ 0.51977401,  0.48022599],\n",
       "       [ 0.        ,  1.        ],\n",
       "       [ 0.94565217,  0.05434783],\n",
       "       [ 0.        ,  1.        ],\n",
       "       [ 1.        ,  0.        ],\n",
       "       [ 0.87570621,  0.12429379],\n",
       "       [ 1.        ,  0.        ],\n",
       "       [ 1.        ,  0.        ],\n",
       "       [ 0.75384615,  0.24615385],\n",
       "       [ 0.11864407,  0.88135593],\n",
       "       [ 0.48167539,  0.51832461],\n",
       "       [ 0.24293785,  0.75706215],\n",
       "       [ 0.        ,  1.        ],\n",
       "       [ 0.86982249,  0.13017751],\n",
       "       [ 0.82887701,  0.17112299],\n",
       "       [ 0.        ,  1.        ],\n",
       "       [ 1.        ,  0.        ],\n",
       "       [ 0.99367089,  0.00632911],\n",
       "       [ 1.        ,  0.        ],\n",
       "       [ 0.        ,  1.        ],\n",
       "       [ 0.00578035,  0.99421965],\n",
       "       [ 0.95767196,  0.04232804],\n",
       "       [ 0.96236559,  0.03763441],\n",
       "       [ 1.        ,  0.        ],\n",
       "       [ 0.49707602,  0.50292398],\n",
       "       [ 1.        ,  0.        ],\n",
       "       [ 0.00558659,  0.99441341],\n",
       "       [ 0.98876404,  0.01123596],\n",
       "       [ 0.03278689,  0.96721311],\n",
       "       [ 1.        ,  0.        ],\n",
       "       [ 1.        ,  0.        ],\n",
       "       [ 1.        ,  0.        ],\n",
       "       [ 0.        ,  1.        ],\n",
       "       [ 0.97326203,  0.02673797],\n",
       "       [ 0.        ,  1.        ],\n",
       "       [ 0.09278351,  0.90721649],\n",
       "       [ 0.        ,  1.        ],\n",
       "       [ 0.        ,  1.        ],\n",
       "       [ 1.        ,  0.        ],\n",
       "       [ 1.        ,  0.        ],\n",
       "       [ 0.        ,  1.        ],\n",
       "       [ 1.        ,  0.        ],\n",
       "       [ 0.01104972,  0.98895028],\n",
       "       [ 1.        ,  0.        ],\n",
       "       [ 0.12777778,  0.87222222],\n",
       "       [ 0.        ,  1.        ],\n",
       "       [ 0.00571429,  0.99428571],\n",
       "       [ 0.        ,  1.        ],\n",
       "       [ 0.44505495,  0.55494505],\n",
       "       [ 0.07446809,  0.92553191],\n",
       "       [ 0.21761658,  0.78238342],\n",
       "       [ 1.        ,  0.        ],\n",
       "       [ 0.9895288 ,  0.0104712 ],\n",
       "       [ 0.20231214,  0.79768786],\n",
       "       [ 0.99367089,  0.00632911],\n",
       "       [ 0.        ,  1.        ],\n",
       "       [ 0.        ,  1.        ],\n",
       "       [ 1.        ,  0.        ],\n",
       "       [ 0.96954315,  0.03045685],\n",
       "       [ 0.28282828,  0.71717172],\n",
       "       [ 0.98816568,  0.01183432],\n",
       "       [ 1.        ,  0.        ],\n",
       "       [ 0.        ,  1.        ],\n",
       "       [ 1.        ,  0.        ],\n",
       "       [ 0.        ,  1.        ],\n",
       "       [ 0.03589744,  0.96410256],\n",
       "       [ 1.        ,  0.        ],\n",
       "       [ 1.        ,  0.        ],\n",
       "       [ 0.00549451,  0.99450549],\n",
       "       [ 0.66666667,  0.33333333]])"
      ]
     },
     "execution_count": 8,
     "metadata": {},
     "output_type": "execute_result"
    }
   ],
   "source": [
    "bag_clf.oob_decision_function_"
   ]
  },
  {
   "cell_type": "code",
   "execution_count": 9,
   "metadata": {
    "collapsed": true
   },
   "outputs": [],
   "source": [
    "from sklearn.ensemble import RandomForestClassifier\n",
    "\n",
    "rnd_clf = RandomForestClassifier(n_estimators=500, max_leaf_nodes = 16, n_jobs = -1)\n",
    "rnd_clf.fit(X_train, y_train)\n",
    "\n",
    "y_pred_rf = rnd_clf.predict(X_test)"
   ]
  },
  {
   "cell_type": "code",
   "execution_count": 10,
   "metadata": {},
   "outputs": [
    {
     "data": {
      "text/plain": [
       "0.91200000000000003"
      ]
     },
     "execution_count": 10,
     "metadata": {},
     "output_type": "execute_result"
    }
   ],
   "source": [
    "bag_clf = BaggingClassifier(\n",
    "    DecisionTreeClassifier(splitter=\"random\", max_leaf_nodes=16),\n",
    "    n_estimators=500, max_samples = 1.0, bootstrap=True,n_jobs=-1\n",
    ")\n",
    "\n",
    "bag_clf.fit(X_train, y_train)\n",
    "y_bag_pred = bag_clf.predict(X_test)\n",
    "accuracy_score(y_test, y_bag_pred)"
   ]
  },
  {
   "cell_type": "code",
   "execution_count": 11,
   "metadata": {},
   "outputs": [
    {
     "data": {
      "text/plain": [
       "0.91200000000000003"
      ]
     },
     "execution_count": 11,
     "metadata": {},
     "output_type": "execute_result"
    }
   ],
   "source": [
    "from sklearn.ensemble import ExtraTreesClassifier\n",
    "\n",
    "extra_clf = ExtraTreesClassifier(n_estimators = 500, max_leaf_nodes = 16, n_jobs = -1)\n",
    "extra_clf.fit(X_train, y_train)\n",
    "\n",
    "extra_pred = extra_clf.predict(X_test)\n",
    "accuracy_score(y_test, extra_pred)"
   ]
  },
  {
   "cell_type": "code",
   "execution_count": 12,
   "metadata": {},
   "outputs": [
    {
     "name": "stdout",
     "output_type": "stream",
     "text": [
      "sepal length (cm) 0.0916755555788\n",
      "sepal width (cm) 0.0232643038369\n",
      "petal length (cm) 0.458278493336\n",
      "petal width (cm) 0.426781647248\n"
     ]
    }
   ],
   "source": [
    "from sklearn.datasets import load_iris\n",
    "\n",
    "iris_data = load_iris()\n",
    "rnd_clf = RandomForestClassifier(n_estimators=500, n_jobs=-1)\n",
    "rnd_clf.fit(iris_data[\"data\"],iris_data[\"target\"])\n",
    "for name, score in zip(iris_data[\"feature_names\"], rnd_clf.feature_importances_):\n",
    "    print(name, score)"
   ]
  },
  {
   "cell_type": "code",
   "execution_count": 13,
   "metadata": {},
   "outputs": [
    {
     "data": {
      "text/plain": [
       "0.89600000000000002"
      ]
     },
     "execution_count": 13,
     "metadata": {},
     "output_type": "execute_result"
    }
   ],
   "source": [
    "from sklearn.ensemble import AdaBoostClassifier\n",
    "\n",
    "ada_clf = AdaBoostClassifier(\n",
    "    DecisionTreeClassifier(max_depth=1), n_estimators=200,\n",
    "    algorithm=\"SAMME.R\", learning_rate=0.5)\n",
    "ada_clf.fit(X_train, y_train)\n",
    "predictions = ada_clf.predict(X_test)\n",
    "accuracy_score(y_test, predictions)"
   ]
  },
  {
   "cell_type": "code",
   "execution_count": 14,
   "metadata": {
    "collapsed": true
   },
   "outputs": [],
   "source": [
    "from sklearn.tree import DecisionTreeRegressor\n",
    "import numpy as np\n",
    "m = 1000\n",
    "X = 6 * np.random.randn(m,1) - 3\n",
    "y = 0.5 * X **2 + X + 2 + np.random.randn(m, 1)\n",
    "\n",
    "tree_reg1 = DecisionTreeRegressor(max_depth=2)\n",
    "tree_reg1.fit(X, y)\n",
    "\n",
    "y2 = y - tree_reg1.predict(X)\n",
    "tree_reg2 = DecisionTreeRegressor(max_depth=2)\n",
    "tree_reg2.fit(X, y2)\n",
    "\n",
    "y3 = y2 - tree_reg2.predict(X)\n",
    "tree_reg3 = DecisionTreeRegressor(max_depth=2)\n",
    "tree_reg3.fit(X, y3)\n",
    "\n",
    "y_pred = sum(tree.predict(X) for tree in (tree_reg1, tree_reg2, tree_reg3))"
   ]
  },
  {
   "cell_type": "code",
   "execution_count": 15,
   "metadata": {},
   "outputs": [
    {
     "name": "stderr",
     "output_type": "stream",
     "text": [
      "C:\\Users\\Albert\\Anaconda3\\lib\\site-packages\\sklearn\\utils\\validation.py:578: DataConversionWarning: A column-vector y was passed when a 1d array was expected. Please change the shape of y to (n_samples, ), for example using ravel().\n",
      "  y = column_or_1d(y, warn=True)\n"
     ]
    },
    {
     "data": {
      "text/plain": [
       "GradientBoostingRegressor(alpha=0.9, criterion='friedman_mse', init=None,\n",
       "             learning_rate=1.0, loss='ls', max_depth=2, max_features=None,\n",
       "             max_leaf_nodes=None, min_impurity_decrease=0.0,\n",
       "             min_impurity_split=None, min_samples_leaf=1,\n",
       "             min_samples_split=2, min_weight_fraction_leaf=0.0,\n",
       "             n_estimators=3, presort='auto', random_state=None,\n",
       "             subsample=1.0, verbose=0, warm_start=False)"
      ]
     },
     "execution_count": 15,
     "metadata": {},
     "output_type": "execute_result"
    }
   ],
   "source": [
    "from sklearn.ensemble import GradientBoostingRegressor\n",
    "\n",
    "gbrt = GradientBoostingRegressor(max_depth=2, n_estimators=3, learning_rate=1.0)\n",
    "gbrt.fit(X,y)"
   ]
  },
  {
   "cell_type": "code",
   "execution_count": 16,
   "metadata": {},
   "outputs": [
    {
     "name": "stderr",
     "output_type": "stream",
     "text": [
      "C:\\Users\\Albert\\Anaconda3\\lib\\site-packages\\sklearn\\utils\\validation.py:578: DataConversionWarning: A column-vector y was passed when a 1d array was expected. Please change the shape of y to (n_samples, ), for example using ravel().\n",
      "  y = column_or_1d(y, warn=True)\n"
     ]
    },
    {
     "data": {
      "text/plain": [
       "GradientBoostingRegressor(alpha=0.9, criterion='friedman_mse', init=None,\n",
       "             learning_rate=0.1, loss='ls', max_depth=2, max_features=None,\n",
       "             max_leaf_nodes=None, min_impurity_decrease=0.0,\n",
       "             min_impurity_split=None, min_samples_leaf=1,\n",
       "             min_samples_split=2, min_weight_fraction_leaf=0.0,\n",
       "             n_estimators=199, presort='auto', random_state=None,\n",
       "             subsample=1.0, verbose=0, warm_start=False)"
      ]
     },
     "execution_count": 16,
     "metadata": {},
     "output_type": "execute_result"
    }
   ],
   "source": [
    "import numpy as np\n",
    "from sklearn.model_selection import train_test_split\n",
    "from sklearn.metrics import mean_squared_error\n",
    "\n",
    "X_train, X_val, y_train, y_val = train_test_split(X, y)\n",
    "\n",
    "gbrt = GradientBoostingRegressor(max_depth=2, n_estimators=200)\n",
    "gbrt.fit(X, y)\n",
    "\n",
    "errors = [mean_squared_error(y_val, y_pred) for y_pred in gbrt.staged_predict(X_val)]\n",
    "best_n_estimators = np.argmin(errors)\n",
    "\n",
    "gbrt_best = GradientBoostingRegressor(max_depth=2, n_estimators = best_n_estimators)\n",
    "gbrt_best.fit(X, y)"
   ]
  },
  {
   "cell_type": "code",
   "execution_count": 18,
   "metadata": {},
   "outputs": [
    {
     "name": "stderr",
     "output_type": "stream",
     "text": [
      "C:\\Users\\Albert\\Anaconda3\\lib\\site-packages\\sklearn\\utils\\validation.py:578: DataConversionWarning: A column-vector y was passed when a 1d array was expected. Please change the shape of y to (n_samples, ), for example using ravel().\n",
      "  y = column_or_1d(y, warn=True)\n"
     ]
    }
   ],
   "source": [
    "gbrt = GradientBoostingRegressor(max_depth=2, warm_start=True)\n",
    "\n",
    "min_val_error = float(\"inf\")\n",
    "for n_estimators in range(1, 120):\n",
    "    gbrt.n_estimators = n_estimators\n",
    "    gbrt.fit(X, y)\n",
    "    val_error = mean_squared_error(y, gbrt.predict(X))\n",
    "    if val_error < min_val_error:\n",
    "        min_val_error = val_error\n",
    "        error_going_up = 0\n",
    "    else:\n",
    "        error_going_up += 1\n",
    "        if error_going_up == 5:\n",
    "            break   "
   ]
  },
  {
   "cell_type": "code",
   "execution_count": 20,
   "metadata": {},
   "outputs": [],
   "source": [
    "from sklearn.datasets import fetch_mldata\n",
    "\n",
    "mnist = fetch_mldata(\"MNIST Original\")\n",
    "X = mnist[\"data\"]\n",
    "y = mnist[\"target\"]"
   ]
  },
  {
   "cell_type": "code",
   "execution_count": 28,
   "metadata": {
    "collapsed": true
   },
   "outputs": [],
   "source": [
    "from sklearn.model_selection import train_test_split\n",
    "\n",
    "X_train_val, X_test, y_train_val, y_test = train_test_split(X, y, test_size = 1.0/7)\n",
    "X_train, X_val, y_train, y_val = train_test_split(X_train_val, y_train_val, test_size = 1.0/3)"
   ]
  },
  {
   "cell_type": "code",
   "execution_count": 29,
   "metadata": {},
   "outputs": [
    {
     "data": {
      "text/plain": [
       "20000"
      ]
     },
     "execution_count": 29,
     "metadata": {},
     "output_type": "execute_result"
    }
   ],
   "source": [
    "from sklearn."
   ]
  },
  {
   "cell_type": "code",
   "execution_count": null,
   "metadata": {
    "collapsed": true
   },
   "outputs": [],
   "source": []
  }
 ],
 "metadata": {
  "kernelspec": {
   "display_name": "Python 3",
   "language": "python",
   "name": "python3"
  },
  "language_info": {
   "codemirror_mode": {
    "name": "ipython",
    "version": 3
   },
   "file_extension": ".py",
   "mimetype": "text/x-python",
   "name": "python",
   "nbconvert_exporter": "python",
   "pygments_lexer": "ipython3",
   "version": "3.6.3"
  }
 },
 "nbformat": 4,
 "nbformat_minor": 2
}
