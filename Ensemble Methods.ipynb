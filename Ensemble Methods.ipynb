{
 "cells": [
  {
   "cell_type": "markdown",
   "metadata": {},
   "source": [
    "# Ensemble Methods"
   ]
  },
  {
   "cell_type": "code",
   "execution_count": 1,
   "metadata": {
    "collapsed": true
   },
   "outputs": [],
   "source": [
    "from sklearn.ensemble import RandomForestClassifier\n",
    "from sklearn.ensemble import VotingClassifier\n",
    "from sklearn.linear_model import LogisticRegression\n",
    "from sklearn.svm import SVC"
   ]
  },
  {
   "cell_type": "code",
   "execution_count": 2,
   "metadata": {
    "collapsed": true
   },
   "outputs": [],
   "source": [
    "log_clf = LogisticRegression()\n",
    "rnd_clf = RandomForestClassifier()\n",
    "svm_clf = SVC(probability=True)\n",
    "\n",
    "voting_clf = VotingClassifier(estimators = [('lr', log_clf), ('rf', rnd_clf), ('sv', svm_clf)], voting='soft')"
   ]
  },
  {
   "cell_type": "code",
   "execution_count": 3,
   "metadata": {
    "collapsed": true
   },
   "outputs": [],
   "source": [
    "from sklearn.model_selection import train_test_split\n",
    "from sklearn.datasets import make_moons\n",
    "\n",
    "X, y = make_moons(n_samples=500, noise=0.30, random_state=42)\n",
    "X_train, X_test, y_train, y_test = train_test_split(X, y, random_state=42)"
   ]
  },
  {
   "cell_type": "code",
   "execution_count": 4,
   "metadata": {},
   "outputs": [
    {
     "name": "stdout",
     "output_type": "stream",
     "text": [
      "LogisticRegression 0.864\n",
      "RandomForestClassifier 0.912\n",
      "SVC 0.888\n",
      "VotingClassifier 0.912\n"
     ]
    }
   ],
   "source": [
    "from sklearn.metrics import accuracy_score\n",
    "\n",
    "for clf in (log_clf, rnd_clf, svm_clf, voting_clf):\n",
    "    clf.fit(X_train, y_train)\n",
    "    y_pred = clf.predict(X_test)\n",
    "    print(clf.__class__.__name__, accuracy_score(y_test, y_pred))"
   ]
  },
  {
   "cell_type": "code",
   "execution_count": 5,
   "metadata": {},
   "outputs": [
    {
     "data": {
      "text/plain": [
       "0.90400000000000003"
      ]
     },
     "execution_count": 5,
     "metadata": {},
     "output_type": "execute_result"
    }
   ],
   "source": [
    "from sklearn.ensemble import BaggingClassifier\n",
    "from sklearn.tree import DecisionTreeClassifier\n",
    "\n",
    "bag_clf = BaggingClassifier(\n",
    "    DecisionTreeClassifier(), n_estimators = 500,\n",
    "    max_samples=100, bootstrap=True, n_jobs=-1)\n",
    "bag_clf.fit(X_train, y_train)\n",
    "\n",
    "predictions = bag_clf.predict(X_test)\n",
    "accuracy_score(y_test, predictions)"
   ]
  },
  {
   "cell_type": "code",
   "execution_count": 6,
   "metadata": {},
   "outputs": [
    {
     "data": {
      "text/plain": [
       "0.89600000000000002"
      ]
     },
     "execution_count": 6,
     "metadata": {},
     "output_type": "execute_result"
    }
   ],
   "source": [
    "bag_clf = BaggingClassifier(\n",
    "    DecisionTreeClassifier(), n_estimators=500,\n",
    "    bootstrap=True, n_jobs=-1, oob_score=True)\n",
    "\n",
    "bag_clf.fit(X_train, y_train)\n",
    "bag_clf.oob_score_"
   ]
  },
  {
   "cell_type": "code",
   "execution_count": 7,
   "metadata": {},
   "outputs": [
    {
     "data": {
      "text/plain": [
       "0.90400000000000003"
      ]
     },
     "execution_count": 7,
     "metadata": {},
     "output_type": "execute_result"
    }
   ],
   "source": [
    "from sklearn.metrics import accuracy_score\n",
    "predictions = bag_clf.predict(X_test)\n",
    "accuracy_score(y_test, predictions)"
   ]
  },
  {
   "cell_type": "code",
   "execution_count": 8,
   "metadata": {},
   "outputs": [
    {
     "data": {
      "text/plain": [
       "array([[ 0.34183673,  0.65816327],\n",
       "       [ 0.32954545,  0.67045455],\n",
       "       [ 1.        ,  0.        ],\n",
       "       [ 0.        ,  1.        ],\n",
       "       [ 0.        ,  1.        ],\n",
       "       [ 0.11377246,  0.88622754],\n",
       "       [ 0.33742331,  0.66257669],\n",
       "       [ 0.0049505 ,  0.9950495 ],\n",
       "       [ 0.99450549,  0.00549451],\n",
       "       [ 0.97938144,  0.02061856],\n",
       "       [ 0.7826087 ,  0.2173913 ],\n",
       "       [ 0.        ,  1.        ],\n",
       "       [ 0.77486911,  0.22513089],\n",
       "       [ 0.81325301,  0.18674699],\n",
       "       [ 0.95652174,  0.04347826],\n",
       "       [ 0.07555556,  0.92444444],\n",
       "       [ 0.005     ,  0.995     ],\n",
       "       [ 0.96923077,  0.03076923],\n",
       "       [ 0.96987952,  0.03012048],\n",
       "       [ 0.99453552,  0.00546448],\n",
       "       [ 0.01081081,  0.98918919],\n",
       "       [ 0.27777778,  0.72222222],\n",
       "       [ 0.92307692,  0.07692308],\n",
       "       [ 1.        ,  0.        ],\n",
       "       [ 0.96132597,  0.03867403],\n",
       "       [ 0.        ,  1.        ],\n",
       "       [ 1.        ,  0.        ],\n",
       "       [ 1.        ,  0.        ],\n",
       "       [ 0.        ,  1.        ],\n",
       "       [ 0.65979381,  0.34020619],\n",
       "       [ 0.        ,  1.        ],\n",
       "       [ 1.        ,  0.        ],\n",
       "       [ 0.        ,  1.        ],\n",
       "       [ 0.        ,  1.        ],\n",
       "       [ 0.14285714,  0.85714286],\n",
       "       [ 1.        ,  0.        ],\n",
       "       [ 0.        ,  1.        ],\n",
       "       [ 0.40677966,  0.59322034],\n",
       "       [ 0.        ,  1.        ],\n",
       "       [ 1.        ,  0.        ],\n",
       "       [ 0.15544041,  0.84455959],\n",
       "       [ 0.32275132,  0.67724868],\n",
       "       [ 1.        ,  0.        ],\n",
       "       [ 1.        ,  0.        ],\n",
       "       [ 0.        ,  1.        ],\n",
       "       [ 1.        ,  0.        ],\n",
       "       [ 1.        ,  0.        ],\n",
       "       [ 0.01507538,  0.98492462],\n",
       "       [ 0.99465241,  0.00534759],\n",
       "       [ 0.        ,  1.        ],\n",
       "       [ 0.99465241,  0.00534759],\n",
       "       [ 0.88541667,  0.11458333],\n",
       "       [ 0.95266272,  0.04733728],\n",
       "       [ 0.9893617 ,  0.0106383 ],\n",
       "       [ 0.        ,  1.        ],\n",
       "       [ 0.04145078,  0.95854922],\n",
       "       [ 0.96969697,  0.03030303],\n",
       "       [ 0.        ,  1.        ],\n",
       "       [ 0.        ,  1.        ],\n",
       "       [ 0.01111111,  0.98888889],\n",
       "       [ 0.9742268 ,  0.0257732 ],\n",
       "       [ 0.78698225,  0.21301775],\n",
       "       [ 0.41208791,  0.58791209],\n",
       "       [ 1.        ,  0.        ],\n",
       "       [ 0.        ,  1.        ],\n",
       "       [ 0.74585635,  0.25414365],\n",
       "       [ 0.99473684,  0.00526316],\n",
       "       [ 1.        ,  0.        ],\n",
       "       [ 0.85863874,  0.14136126],\n",
       "       [ 1.        ,  0.        ],\n",
       "       [ 0.61      ,  0.39      ],\n",
       "       [ 0.11560694,  0.88439306],\n",
       "       [ 0.61139896,  0.38860104],\n",
       "       [ 0.93604651,  0.06395349],\n",
       "       [ 0.        ,  1.        ],\n",
       "       [ 0.20606061,  0.79393939],\n",
       "       [ 0.85393258,  0.14606742],\n",
       "       [ 1.        ,  0.        ],\n",
       "       [ 0.        ,  1.        ],\n",
       "       [ 1.        ,  0.        ],\n",
       "       [ 0.        ,  1.        ],\n",
       "       [ 0.03550296,  0.96449704],\n",
       "       [ 0.02061856,  0.97938144],\n",
       "       [ 0.34285714,  0.65714286],\n",
       "       [ 1.        ,  0.        ],\n",
       "       [ 0.00505051,  0.99494949],\n",
       "       [ 0.90374332,  0.09625668],\n",
       "       [ 0.00568182,  0.99431818],\n",
       "       [ 0.        ,  1.        ],\n",
       "       [ 0.        ,  1.        ],\n",
       "       [ 0.19444444,  0.80555556],\n",
       "       [ 1.        ,  0.        ],\n",
       "       [ 0.        ,  1.        ],\n",
       "       [ 0.        ,  1.        ],\n",
       "       [ 0.        ,  1.        ],\n",
       "       [ 0.94652406,  0.05347594],\n",
       "       [ 0.78034682,  0.21965318],\n",
       "       [ 0.00571429,  0.99428571],\n",
       "       [ 1.        ,  0.        ],\n",
       "       [ 0.21649485,  0.78350515],\n",
       "       [ 0.59390863,  0.40609137],\n",
       "       [ 0.        ,  1.        ],\n",
       "       [ 0.04494382,  0.95505618],\n",
       "       [ 0.56842105,  0.43157895],\n",
       "       [ 1.        ,  0.        ],\n",
       "       [ 0.00555556,  0.99444444],\n",
       "       [ 1.        ,  0.        ],\n",
       "       [ 0.32      ,  0.68      ],\n",
       "       [ 0.45454545,  0.54545455],\n",
       "       [ 1.        ,  0.        ],\n",
       "       [ 0.01176471,  0.98823529],\n",
       "       [ 0.98387097,  0.01612903],\n",
       "       [ 0.22807018,  0.77192982],\n",
       "       [ 0.90821256,  0.09178744],\n",
       "       [ 1.        ,  0.        ],\n",
       "       [ 1.        ,  0.        ],\n",
       "       [ 0.        ,  1.        ],\n",
       "       [ 0.        ,  1.        ],\n",
       "       [ 0.81976744,  0.18023256],\n",
       "       [ 1.        ,  0.        ],\n",
       "       [ 0.        ,  1.        ],\n",
       "       [ 1.        ,  0.        ],\n",
       "       [ 0.99      ,  0.01      ],\n",
       "       [ 1.        ,  0.        ],\n",
       "       [ 0.99470899,  0.00529101],\n",
       "       [ 1.        ,  0.        ],\n",
       "       [ 0.00595238,  0.99404762],\n",
       "       [ 0.96610169,  0.03389831],\n",
       "       [ 1.        ,  0.        ],\n",
       "       [ 0.        ,  1.        ],\n",
       "       [ 0.22093023,  0.77906977],\n",
       "       [ 0.97252747,  0.02747253],\n",
       "       [ 0.25531915,  0.74468085],\n",
       "       [ 0.99462366,  0.00537634],\n",
       "       [ 0.        ,  1.        ],\n",
       "       [ 0.00574713,  0.99425287],\n",
       "       [ 0.75449102,  0.24550898],\n",
       "       [ 0.3452381 ,  0.6547619 ],\n",
       "       [ 0.42011834,  0.57988166],\n",
       "       [ 0.87709497,  0.12290503],\n",
       "       [ 0.93121693,  0.06878307],\n",
       "       [ 0.0625    ,  0.9375    ],\n",
       "       [ 0.8       ,  0.2       ],\n",
       "       [ 0.00510204,  0.99489796],\n",
       "       [ 0.        ,  1.        ],\n",
       "       [ 0.04624277,  0.95375723],\n",
       "       [ 0.9742268 ,  0.0257732 ],\n",
       "       [ 1.        ,  0.        ],\n",
       "       [ 1.        ,  0.        ],\n",
       "       [ 0.00552486,  0.99447514],\n",
       "       [ 0.        ,  1.        ],\n",
       "       [ 0.02631579,  0.97368421],\n",
       "       [ 0.        ,  1.        ],\n",
       "       [ 1.        ,  0.        ],\n",
       "       [ 1.        ,  0.        ],\n",
       "       [ 0.94708995,  0.05291005],\n",
       "       [ 1.        ,  0.        ],\n",
       "       [ 1.        ,  0.        ],\n",
       "       [ 0.9939759 ,  0.0060241 ],\n",
       "       [ 0.        ,  1.        ],\n",
       "       [ 0.35051546,  0.64948454],\n",
       "       [ 0.28272251,  0.71727749],\n",
       "       [ 0.        ,  1.        ],\n",
       "       [ 0.        ,  1.        ],\n",
       "       [ 0.34302326,  0.65697674],\n",
       "       [ 1.        ,  0.        ],\n",
       "       [ 0.99425287,  0.00574713],\n",
       "       [ 0.        ,  1.        ],\n",
       "       [ 1.        ,  0.        ],\n",
       "       [ 0.        ,  1.        ],\n",
       "       [ 0.        ,  1.        ],\n",
       "       [ 0.99487179,  0.00512821],\n",
       "       [ 0.        ,  1.        ],\n",
       "       [ 0.        ,  1.        ],\n",
       "       [ 1.        ,  0.        ],\n",
       "       [ 0.        ,  1.        ],\n",
       "       [ 0.71005917,  0.28994083],\n",
       "       [ 0.92934783,  0.07065217],\n",
       "       [ 0.        ,  1.        ],\n",
       "       [ 0.99502488,  0.00497512],\n",
       "       [ 0.99465241,  0.00534759],\n",
       "       [ 1.        ,  0.        ],\n",
       "       [ 0.        ,  1.        ],\n",
       "       [ 0.        ,  1.        ],\n",
       "       [ 1.        ,  0.        ],\n",
       "       [ 0.04166667,  0.95833333],\n",
       "       [ 1.        ,  0.        ],\n",
       "       [ 0.03977273,  0.96022727],\n",
       "       [ 0.        ,  1.        ],\n",
       "       [ 1.        ,  0.        ],\n",
       "       [ 0.        ,  1.        ],\n",
       "       [ 0.03529412,  0.96470588],\n",
       "       [ 1.        ,  0.        ],\n",
       "       [ 0.94086022,  0.05913978],\n",
       "       [ 0.72777778,  0.27222222],\n",
       "       [ 0.62011173,  0.37988827],\n",
       "       [ 0.        ,  1.        ],\n",
       "       [ 0.14880952,  0.85119048],\n",
       "       [ 1.        ,  0.        ],\n",
       "       [ 0.95266272,  0.04733728],\n",
       "       [ 0.95530726,  0.04469274],\n",
       "       [ 1.        ,  0.        ],\n",
       "       [ 0.01052632,  0.98947368],\n",
       "       [ 0.        ,  1.        ],\n",
       "       [ 0.40641711,  0.59358289],\n",
       "       [ 0.84444444,  0.15555556],\n",
       "       [ 0.        ,  1.        ],\n",
       "       [ 0.        ,  1.        ],\n",
       "       [ 0.99431818,  0.00568182],\n",
       "       [ 0.01578947,  0.98421053],\n",
       "       [ 0.        ,  1.        ],\n",
       "       [ 0.95477387,  0.04522613],\n",
       "       [ 0.        ,  1.        ],\n",
       "       [ 0.28651685,  0.71348315],\n",
       "       [ 0.        ,  1.        ],\n",
       "       [ 1.        ,  0.        ],\n",
       "       [ 0.        ,  1.        ],\n",
       "       [ 0.        ,  1.        ],\n",
       "       [ 0.98882682,  0.01117318],\n",
       "       [ 0.79792746,  0.20207254],\n",
       "       [ 1.        ,  0.        ],\n",
       "       [ 0.        ,  1.        ],\n",
       "       [ 0.07142857,  0.92857143],\n",
       "       [ 0.99547511,  0.00452489],\n",
       "       [ 0.01111111,  0.98888889],\n",
       "       [ 0.        ,  1.        ],\n",
       "       [ 0.07738095,  0.92261905],\n",
       "       [ 1.        ,  0.        ],\n",
       "       [ 0.7704918 ,  0.2295082 ],\n",
       "       [ 0.        ,  1.        ],\n",
       "       [ 0.88372093,  0.11627907],\n",
       "       [ 0.98876404,  0.01123596],\n",
       "       [ 0.18079096,  0.81920904],\n",
       "       [ 0.20833333,  0.79166667],\n",
       "       [ 1.        ,  0.        ],\n",
       "       [ 0.        ,  1.        ],\n",
       "       [ 0.        ,  1.        ],\n",
       "       [ 0.        ,  1.        ],\n",
       "       [ 0.21693122,  0.78306878],\n",
       "       [ 0.97354497,  0.02645503],\n",
       "       [ 0.        ,  1.        ],\n",
       "       [ 1.        ,  0.        ],\n",
       "       [ 0.98837209,  0.01162791],\n",
       "       [ 0.        ,  1.        ],\n",
       "       [ 0.44505495,  0.55494505],\n",
       "       [ 1.        ,  0.        ],\n",
       "       [ 0.        ,  1.        ],\n",
       "       [ 1.        ,  0.        ],\n",
       "       [ 0.        ,  1.        ],\n",
       "       [ 0.        ,  1.        ],\n",
       "       [ 0.08      ,  0.92      ],\n",
       "       [ 0.08333333,  0.91666667],\n",
       "       [ 0.99484536,  0.00515464],\n",
       "       [ 0.02840909,  0.97159091],\n",
       "       [ 1.        ,  0.        ],\n",
       "       [ 0.41714286,  0.58285714],\n",
       "       [ 0.12      ,  0.88      ],\n",
       "       [ 0.57837838,  0.42162162],\n",
       "       [ 0.59893048,  0.40106952],\n",
       "       [ 0.        ,  1.        ],\n",
       "       [ 1.        ,  0.        ],\n",
       "       [ 0.        ,  1.        ],\n",
       "       [ 0.        ,  1.        ],\n",
       "       [ 0.57978723,  0.42021277],\n",
       "       [ 0.        ,  1.        ],\n",
       "       [ 1.        ,  0.        ],\n",
       "       [ 0.18857143,  0.81142857],\n",
       "       [ 0.84574468,  0.15425532],\n",
       "       [ 0.05555556,  0.94444444],\n",
       "       [ 1.        ,  0.        ],\n",
       "       [ 0.85185185,  0.14814815],\n",
       "       [ 0.        ,  1.        ],\n",
       "       [ 0.        ,  1.        ],\n",
       "       [ 0.11229947,  0.88770053],\n",
       "       [ 0.01092896,  0.98907104],\n",
       "       [ 0.        ,  1.        ],\n",
       "       [ 0.99401198,  0.00598802],\n",
       "       [ 0.88764045,  0.11235955],\n",
       "       [ 0.18518519,  0.81481481],\n",
       "       [ 0.94972067,  0.05027933],\n",
       "       [ 0.00574713,  0.99425287],\n",
       "       [ 0.55232558,  0.44767442],\n",
       "       [ 0.05649718,  0.94350282],\n",
       "       [ 0.98979592,  0.01020408],\n",
       "       [ 0.80412371,  0.19587629],\n",
       "       [ 0.        ,  1.        ],\n",
       "       [ 0.99435028,  0.00564972],\n",
       "       [ 0.93442623,  0.06557377],\n",
       "       [ 0.        ,  1.        ],\n",
       "       [ 0.        ,  1.        ],\n",
       "       [ 1.        ,  0.        ],\n",
       "       [ 0.        ,  1.        ],\n",
       "       [ 1.        ,  0.        ],\n",
       "       [ 0.29081633,  0.70918367],\n",
       "       [ 0.995     ,  0.005     ],\n",
       "       [ 1.        ,  0.        ],\n",
       "       [ 0.        ,  1.        ],\n",
       "       [ 0.00584795,  0.99415205],\n",
       "       [ 0.84263959,  0.15736041],\n",
       "       [ 0.        ,  1.        ],\n",
       "       [ 1.        ,  0.        ],\n",
       "       [ 0.75      ,  0.25      ],\n",
       "       [ 0.95238095,  0.04761905],\n",
       "       [ 1.        ,  0.        ],\n",
       "       [ 0.75742574,  0.24257426],\n",
       "       [ 0.54494382,  0.45505618],\n",
       "       [ 0.        ,  1.        ],\n",
       "       [ 0.90206186,  0.09793814],\n",
       "       [ 0.        ,  1.        ],\n",
       "       [ 1.        ,  0.        ],\n",
       "       [ 0.87317073,  0.12682927],\n",
       "       [ 1.        ,  0.        ],\n",
       "       [ 1.        ,  0.        ],\n",
       "       [ 0.78378378,  0.21621622],\n",
       "       [ 0.10614525,  0.89385475],\n",
       "       [ 0.48108108,  0.51891892],\n",
       "       [ 0.26368159,  0.73631841],\n",
       "       [ 0.        ,  1.        ],\n",
       "       [ 0.89756098,  0.10243902],\n",
       "       [ 0.86153846,  0.13846154],\n",
       "       [ 0.00552486,  0.99447514],\n",
       "       [ 1.        ,  0.        ],\n",
       "       [ 0.98941799,  0.01058201],\n",
       "       [ 1.        ,  0.        ],\n",
       "       [ 0.        ,  1.        ],\n",
       "       [ 0.01204819,  0.98795181],\n",
       "       [ 0.95698925,  0.04301075],\n",
       "       [ 0.96825397,  0.03174603],\n",
       "       [ 1.        ,  0.        ],\n",
       "       [ 0.52791878,  0.47208122],\n",
       "       [ 1.        ,  0.        ],\n",
       "       [ 0.        ,  1.        ],\n",
       "       [ 0.98360656,  0.01639344],\n",
       "       [ 0.02564103,  0.97435897],\n",
       "       [ 1.        ,  0.        ],\n",
       "       [ 1.        ,  0.        ],\n",
       "       [ 1.        ,  0.        ],\n",
       "       [ 0.        ,  1.        ],\n",
       "       [ 0.9673913 ,  0.0326087 ],\n",
       "       [ 0.        ,  1.        ],\n",
       "       [ 0.08426966,  0.91573034],\n",
       "       [ 0.        ,  1.        ],\n",
       "       [ 0.        ,  1.        ],\n",
       "       [ 1.        ,  0.        ],\n",
       "       [ 1.        ,  0.        ],\n",
       "       [ 0.        ,  1.        ],\n",
       "       [ 0.99431818,  0.00568182],\n",
       "       [ 0.00628931,  0.99371069],\n",
       "       [ 1.        ,  0.        ],\n",
       "       [ 0.11891892,  0.88108108],\n",
       "       [ 0.        ,  1.        ],\n",
       "       [ 0.00515464,  0.99484536],\n",
       "       [ 0.        ,  1.        ],\n",
       "       [ 0.38674033,  0.61325967],\n",
       "       [ 0.07643312,  0.92356688],\n",
       "       [ 0.21111111,  0.78888889],\n",
       "       [ 1.        ,  0.        ],\n",
       "       [ 0.99431818,  0.00568182],\n",
       "       [ 0.24038462,  0.75961538],\n",
       "       [ 0.99468085,  0.00531915],\n",
       "       [ 0.        ,  1.        ],\n",
       "       [ 0.        ,  1.        ],\n",
       "       [ 1.        ,  0.        ],\n",
       "       [ 0.97596154,  0.02403846],\n",
       "       [ 0.35555556,  0.64444444],\n",
       "       [ 0.9947644 ,  0.0052356 ],\n",
       "       [ 1.        ,  0.        ],\n",
       "       [ 0.        ,  1.        ],\n",
       "       [ 1.        ,  0.        ],\n",
       "       [ 0.00552486,  0.99447514],\n",
       "       [ 0.02234637,  0.97765363],\n",
       "       [ 0.99435028,  0.00564972],\n",
       "       [ 1.        ,  0.        ],\n",
       "       [ 0.0304878 ,  0.9695122 ],\n",
       "       [ 0.62765957,  0.37234043]])"
      ]
     },
     "execution_count": 8,
     "metadata": {},
     "output_type": "execute_result"
    }
   ],
   "source": [
    "bag_clf.oob_decision_function_"
   ]
  },
  {
   "cell_type": "code",
   "execution_count": 9,
   "metadata": {
    "collapsed": true
   },
   "outputs": [],
   "source": [
    "from sklearn.ensemble import RandomForestClassifier\n",
    "\n",
    "rnd_clf = RandomForestClassifier(n_estimators=500, max_leaf_nodes = 16, n_jobs = -1)\n",
    "rnd_clf.fit(X_train, y_train)\n",
    "\n",
    "y_pred_rf = rnd_clf.predict(X_test)"
   ]
  },
  {
   "cell_type": "code",
   "execution_count": 10,
   "metadata": {},
   "outputs": [
    {
     "data": {
      "text/plain": [
       "0.90400000000000003"
      ]
     },
     "execution_count": 10,
     "metadata": {},
     "output_type": "execute_result"
    }
   ],
   "source": [
    "bag_clf = BaggingClassifier(\n",
    "    DecisionTreeClassifier(splitter=\"random\", max_leaf_nodes=16),\n",
    "    n_estimators=500, max_samples = 1.0, bootstrap=True,n_jobs=-1\n",
    ")\n",
    "\n",
    "bag_clf.fit(X_train, y_train)\n",
    "y_bag_pred = bag_clf.predict(X_test)\n",
    "accuracy_score(y_test, y_bag_pred)"
   ]
  },
  {
   "cell_type": "code",
   "execution_count": 11,
   "metadata": {},
   "outputs": [
    {
     "data": {
      "text/plain": [
       "0.91200000000000003"
      ]
     },
     "execution_count": 11,
     "metadata": {},
     "output_type": "execute_result"
    }
   ],
   "source": [
    "from sklearn.ensemble import ExtraTreesClassifier\n",
    "\n",
    "extra_clf = ExtraTreesClassifier(n_estimators = 500, max_leaf_nodes = 16, n_jobs = -1)\n",
    "extra_clf.fit(X_train, y_train)\n",
    "\n",
    "extra_pred = extra_clf.predict(X_test)\n",
    "accuracy_score(y_test, extra_pred)"
   ]
  },
  {
   "cell_type": "code",
   "execution_count": 12,
   "metadata": {},
   "outputs": [
    {
     "name": "stdout",
     "output_type": "stream",
     "text": [
      "sepal length (cm) 0.118261111034\n",
      "sepal width (cm) 0.0253709507313\n",
      "petal length (cm) 0.4518342915\n",
      "petal width (cm) 0.404533646735\n"
     ]
    }
   ],
   "source": [
    "from sklearn.datasets import load_iris\n",
    "\n",
    "iris_data = load_iris()\n",
    "rnd_clf = RandomForestClassifier(n_estimators=500, n_jobs=-1)\n",
    "rnd_clf.fit(iris_data[\"data\"],iris_data[\"target\"])\n",
    "for name, score in zip(iris_data[\"feature_names\"], rnd_clf.feature_importances_):\n",
    "    print(name, score)"
   ]
  },
  {
   "cell_type": "code",
   "execution_count": 13,
   "metadata": {},
   "outputs": [
    {
     "data": {
      "text/plain": [
       "0.89600000000000002"
      ]
     },
     "execution_count": 13,
     "metadata": {},
     "output_type": "execute_result"
    }
   ],
   "source": [
    "from sklearn.ensemble import AdaBoostClassifier\n",
    "\n",
    "ada_clf = AdaBoostClassifier(\n",
    "    DecisionTreeClassifier(max_depth=1), n_estimators=200,\n",
    "    algorithm=\"SAMME.R\", learning_rate=0.5)\n",
    "ada_clf.fit(X_train, y_train)\n",
    "predictions = ada_clf.predict(X_test)\n",
    "accuracy_score(y_test, predictions)"
   ]
  },
  {
   "cell_type": "code",
   "execution_count": 14,
   "metadata": {
    "collapsed": true
   },
   "outputs": [],
   "source": [
    "from sklearn.tree import DecisionTreeRegressor\n",
    "import numpy as np\n",
    "m = 1000\n",
    "X = 6 * np.random.randn(m,1) - 3\n",
    "y = 0.5 * X **2 + X + 2 + np.random.randn(m, 1)\n",
    "\n",
    "tree_reg1 = DecisionTreeRegressor(max_depth=2)\n",
    "tree_reg1.fit(X, y)\n",
    "\n",
    "y2 = y - tree_reg1.predict(X)\n",
    "tree_reg2 = DecisionTreeRegressor(max_depth=2)\n",
    "tree_reg2.fit(X, y2)\n",
    "\n",
    "y3 = y2 - tree_reg2.predict(X)\n",
    "tree_reg3 = DecisionTreeRegressor(max_depth=2)\n",
    "tree_reg3.fit(X, y3)\n",
    "\n",
    "y_pred = sum(tree.predict(X) for tree in (tree_reg1, tree_reg2, tree_reg3))"
   ]
  },
  {
   "cell_type": "code",
   "execution_count": 15,
   "metadata": {},
   "outputs": [
    {
     "name": "stderr",
     "output_type": "stream",
     "text": [
      "C:\\Users\\Albert\\Anaconda3\\lib\\site-packages\\sklearn\\utils\\validation.py:578: DataConversionWarning: A column-vector y was passed when a 1d array was expected. Please change the shape of y to (n_samples, ), for example using ravel().\n",
      "  y = column_or_1d(y, warn=True)\n"
     ]
    },
    {
     "data": {
      "text/plain": [
       "GradientBoostingRegressor(alpha=0.9, criterion='friedman_mse', init=None,\n",
       "             learning_rate=1.0, loss='ls', max_depth=2, max_features=None,\n",
       "             max_leaf_nodes=None, min_impurity_decrease=0.0,\n",
       "             min_impurity_split=None, min_samples_leaf=1,\n",
       "             min_samples_split=2, min_weight_fraction_leaf=0.0,\n",
       "             n_estimators=3, presort='auto', random_state=None,\n",
       "             subsample=1.0, verbose=0, warm_start=False)"
      ]
     },
     "execution_count": 15,
     "metadata": {},
     "output_type": "execute_result"
    }
   ],
   "source": [
    "from sklearn.ensemble import GradientBoostingRegressor\n",
    "\n",
    "gbrt = GradientBoostingRegressor(max_depth=2, n_estimators=3, learning_rate=1.0)\n",
    "gbrt.fit(X,y)"
   ]
  },
  {
   "cell_type": "code",
   "execution_count": 16,
   "metadata": {},
   "outputs": [
    {
     "name": "stderr",
     "output_type": "stream",
     "text": [
      "C:\\Users\\Albert\\Anaconda3\\lib\\site-packages\\sklearn\\utils\\validation.py:578: DataConversionWarning: A column-vector y was passed when a 1d array was expected. Please change the shape of y to (n_samples, ), for example using ravel().\n",
      "  y = column_or_1d(y, warn=True)\n"
     ]
    },
    {
     "data": {
      "text/plain": [
       "GradientBoostingRegressor(alpha=0.9, criterion='friedman_mse', init=None,\n",
       "             learning_rate=0.1, loss='ls', max_depth=2, max_features=None,\n",
       "             max_leaf_nodes=None, min_impurity_decrease=0.0,\n",
       "             min_impurity_split=None, min_samples_leaf=1,\n",
       "             min_samples_split=2, min_weight_fraction_leaf=0.0,\n",
       "             n_estimators=199, presort='auto', random_state=None,\n",
       "             subsample=1.0, verbose=0, warm_start=False)"
      ]
     },
     "execution_count": 16,
     "metadata": {},
     "output_type": "execute_result"
    }
   ],
   "source": [
    "import numpy as np\n",
    "from sklearn.model_selection import train_test_split\n",
    "from sklearn.metrics import mean_squared_error\n",
    "\n",
    "X_train, X_val, y_train, y_val = train_test_split(X, y)\n",
    "\n",
    "gbrt = GradientBoostingRegressor(max_depth=2, n_estimators=200)\n",
    "gbrt.fit(X, y)\n",
    "\n",
    "errors = [mean_squared_error(y_val, y_pred) for y_pred in gbrt.staged_predict(X_val)]\n",
    "best_n_estimators = np.argmin(errors)\n",
    "\n",
    "gbrt_best = GradientBoostingRegressor(max_depth=2, n_estimators = best_n_estimators)\n",
    "gbrt_best.fit(X, y)"
   ]
  },
  {
   "cell_type": "code",
   "execution_count": 17,
   "metadata": {},
   "outputs": [
    {
     "name": "stderr",
     "output_type": "stream",
     "text": [
      "C:\\Users\\Albert\\Anaconda3\\lib\\site-packages\\sklearn\\utils\\validation.py:578: DataConversionWarning: A column-vector y was passed when a 1d array was expected. Please change the shape of y to (n_samples, ), for example using ravel().\n",
      "  y = column_or_1d(y, warn=True)\n"
     ]
    }
   ],
   "source": [
    "gbrt = GradientBoostingRegressor(max_depth=2, warm_start=True)\n",
    "\n",
    "min_val_error = float(\"inf\")\n",
    "for n_estimators in range(1, 120):\n",
    "    gbrt.n_estimators = n_estimators\n",
    "    gbrt.fit(X, y)\n",
    "    val_error = mean_squared_error(y, gbrt.predict(X))\n",
    "    if val_error < min_val_error:\n",
    "        min_val_error = val_error\n",
    "        error_going_up = 0\n",
    "    else:\n",
    "        error_going_up += 1\n",
    "        if error_going_up == 5:\n",
    "            break   "
   ]
  },
  {
   "cell_type": "code",
   "execution_count": 18,
   "metadata": {
    "collapsed": true
   },
   "outputs": [],
   "source": [
    "from sklearn.datasets import fetch_mldata\n",
    "\n",
    "mnist = fetch_mldata(\"MNIST Original\")\n",
    "X = mnist[\"data\"]\n",
    "y = mnist[\"target\"]"
   ]
  },
  {
   "cell_type": "code",
   "execution_count": 19,
   "metadata": {
    "collapsed": true
   },
   "outputs": [],
   "source": [
    "from sklearn.model_selection import train_test_split\n",
    "\n",
    "X_train_val, X_test, y_train_val, y_test = train_test_split(X, y, test_size = 1.0/7)\n",
    "X_train, X_val, y_train, y_val = train_test_split(X_train_val, y_train_val, test_size = 1.0/3)"
   ]
  },
  {
   "cell_type": "code",
   "execution_count": 20,
   "metadata": {
    "collapsed": true
   },
   "outputs": [],
   "source": [
    "from sklearn.ensemble import ExtraTreesClassifier, RandomForestClassifier, VotingClassifier\n",
    "from sklearn.svm import LinearSVC\n",
    "\n",
    "extra_clf = ExtraTreesClassifier()\n",
    "forest_clf = RandomForestClassifier()\n",
    "svc_clf = LinearSVC()\n",
    "voting_clf = VotingClassifier(estimators = [('extra', extra_clf), ('forest', forest_clf), ('svc', svc_clf)], voting='hard')"
   ]
  },
  {
   "cell_type": "code",
   "execution_count": 22,
   "metadata": {},
   "outputs": [],
   "source": [
    "models = [('Extra Trees', extra_clf), ('Random Forests' ,forest_clf), ('Support Vector', svc_clf), ('Voting', voting_clf)]\n",
    "\n",
    "extra_clf.fit(X_train, y_train)\n",
    "forest_clf.fit(X_train, y_train)\n",
    "svc_clf.fit(X_train, y_train)\n",
    "voting_clf.fit(X_train, y_train)\n",
    "\n",
    "extra_pred = extra_clf.predict(X_val)\n",
    "forest_pred = forest_clf.predict(X_val)\n",
    "svc_pred = svc_clf.predict(X_val)\n",
    "voting_pred = voting_clf.predict(X_val)"
   ]
  },
  {
   "cell_type": "code",
   "execution_count": 57,
   "metadata": {},
   "outputs": [
    {
     "data": {
      "text/plain": [
       "RandomForestClassifier(bootstrap=True, class_weight=None, criterion='gini',\n",
       "            max_depth=None, max_features='auto', max_leaf_nodes=None,\n",
       "            min_impurity_decrease=0.0, min_impurity_split=None,\n",
       "            min_samples_leaf=1, min_samples_split=2,\n",
       "            min_weight_fraction_leaf=0.0, n_estimators=10, n_jobs=1,\n",
       "            oob_score=False, random_state=None, verbose=0,\n",
       "            warm_start=False)"
      ]
     },
     "execution_count": 57,
     "metadata": {},
     "output_type": "execute_result"
    }
   ],
   "source": [
    "X_new = list(zip(extra_pred, forest_pred, svc_pred, voting_pred))\n",
    "new_clf = RandomForestClassifier()\n",
    "new_clf.fit(X_new, y_val)"
   ]
  },
  {
   "cell_type": "code",
   "execution_count": 58,
   "metadata": {},
   "outputs": [
    {
     "data": {
      "text/plain": [
       "0.95130000000000003"
      ]
     },
     "execution_count": 58,
     "metadata": {},
     "output_type": "execute_result"
    }
   ],
   "source": [
    "from sklearn.pipeline import FeatureUnion, Pipeline\n",
    "from sklearn.base import BaseEstimator,TransformerMixin\n",
    "\n",
    "models = [extra_clf, forest_clf, svc_clf, voting_clf]\n",
    "\n",
    "class StagedPredict(BaseEstimator, TransformerMixin):\n",
    "    def __init__(self,models):\n",
    "        self.models = models\n",
    "    def fit(self, X, y=None):\n",
    "        return self\n",
    "    def transform(self, X):\n",
    "        X_new = list(zip(*[model.predict(X) for model in models]))\n",
    "        return X_new\n",
    "\n",
    "trans = StagedPredict(models)\n",
    "X_test_trans = trans.fit_transform(X_test)\n",
    "\n",
    "staged_predictions = new_clf.predict(X_test_trans)\n",
    "accuracy_score(y_test, staged_predictions)"
   ]
  }
 ],
 "metadata": {
  "kernelspec": {
   "display_name": "Python 3",
   "language": "python",
   "name": "python3"
  },
  "language_info": {
   "codemirror_mode": {
    "name": "ipython",
    "version": 3
   },
   "file_extension": ".py",
   "mimetype": "text/x-python",
   "name": "python",
   "nbconvert_exporter": "python",
   "pygments_lexer": "ipython3",
   "version": "3.6.3"
  }
 },
 "nbformat": 4,
 "nbformat_minor": 2
}
